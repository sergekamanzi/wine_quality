{
  "nbformat": 4,
  "nbformat_minor": 0,
  "metadata": {
    "colab": {
      "provenance": [],
      "authorship_tag": "ABX9TyPndH/gv1K0S9IOk9Qe8JyH",
      "include_colab_link": true
    },
    "kernelspec": {
      "name": "python3",
      "display_name": "Python 3"
    },
    "language_info": {
      "name": "python"
    }
  },
  "cells": [
    {
      "cell_type": "markdown",
      "metadata": {
        "id": "view-in-github",
        "colab_type": "text"
      },
      "source": [
        "<a href=\"https://colab.research.google.com/github/sergekamanzi/wine_quality/blob/main/wine_quality_py.ipynb\" target=\"_parent\"><img src=\"https://colab.research.google.com/assets/colab-badge.svg\" alt=\"Open In Colab\"/></a>"
      ]
    },
    {
      "cell_type": "code",
      "source": [
        "import pandas as pd\n",
        "from sklearn.model_selection import train_test_split\n",
        "from sklearn.ensemble import RandomForestClassifier\n",
        "from sklearn.metrics import accuracy_score\n",
        "import tkinter as tk\n",
        "from tkinter import ttk\n"
      ],
      "metadata": {
        "id": "RzTWWwKyB-Ku"
      },
      "execution_count": 64,
      "outputs": []
    },
    {
      "cell_type": "code",
      "source": [
        "# Load datasets for red and white wines\n",
        "red = pd.read_csv('/content/winequality-red.csv', sep=';')\n",
        "white = pd.read_csv('/content/winequality-white.csv', sep=';')\n",
        "\n",
        "# Add a 'wine_type' column to each dataset: 1 for red, 0 for white\n",
        "red['wine_type'] = 1\n",
        "white['wine_type'] = 0\n",
        "\n",
        "# Combine both datasets\n",
        "wine_data = pd.concat([red, white], axis=0)\n"
      ],
      "metadata": {
        "id": "oeQT9w3EB941"
      },
      "execution_count": 65,
      "outputs": []
    },
    {
      "cell_type": "code",
      "source": [
        "# Select features\n",
        "features = ['fixed acidity', 'volatile acidity', 'citric acid', 'residual sugar', 'pH', 'alcohol', 'wine_type']\n",
        "X = wine_data[features]  # Input features\n",
        "y = wine_data['quality'] # Output target (wine quality)\n",
        "\n",
        "# Split the data into training and testing sets\n",
        "X_train, X_test, y_train, y_test = train_test_split(X, y, test_size=0.2, random_state=42)\n"
      ],
      "metadata": {
        "id": "SZpG41AtFQYX"
      },
      "execution_count": 66,
      "outputs": []
    },
    {
      "cell_type": "code",
      "source": [
        "# Initialize a RandomForestClassifier\n",
        "model = RandomForestClassifier(n_estimators=100, random_state=42)\n",
        "\n",
        "# Train the model\n",
        "model.fit(X_train, y_train)\n",
        "\n",
        "# Predict the quality of the wine on the test data\n",
        "y_pred = model.predict(X_test)\n",
        "\n",
        "# Evaluate the model\n",
        "accuracy = accuracy_score(y_test, y_pred)\n",
        "print(f\"Model Accuracy: {accuracy * 100:.2f}%\")\n"
      ],
      "metadata": {
        "id": "Z-YQQ_ccFQTf",
        "outputId": "3c645085-11f1-4b1d-8485-3e030b49d038",
        "colab": {
          "base_uri": "https://localhost:8080/"
        }
      },
      "execution_count": 67,
      "outputs": [
        {
          "output_type": "stream",
          "name": "stdout",
          "text": [
            "Model Accuracy: 66.38%\n"
          ]
        }
      ]
    },
    {
      "cell_type": "code",
      "source": [
        "# Function to predict wine quality based on user input\n",
        "def predict_wine_quality():\n",
        "    # Get the input values from the user\n",
        "    while True:\n",
        "        wine_type = input(\"Enter wine type (red/white): \").strip().lower()\n",
        "        if wine_type in [\"red\", \"white\"]:\n",
        "            wine_type = 1 if wine_type == \"red\" else 0\n",
        "            break  # Exit the loop if input is valid\n",
        "        else:\n",
        "            print(\"Invalid input! Please enter 'red' or 'white'.\")\n",
        "\n",
        "    # Get other input values\n",
        "    fixed_acidity = float(input(\"Enter Fixed Acidity: \"))\n",
        "    volatile_acidity = float(input(\"Enter Volatile Acidity: \"))\n",
        "    citric_acid = float(input(\"Enter Citric Acid: \"))\n",
        "    residual_sugar = float(input(\"Enter Residual Sugar: \"))\n",
        "    ph = float(input(\"Enter pH level: \"))\n",
        "    alcohol = float(input(\"Enter Alcohol Content: \"))\n",
        "\n",
        "    # Construct the input array\n",
        "    features = [[fixed_acidity, volatile_acidity, citric_acid, residual_sugar, ph, alcohol, wine_type]]\n",
        "\n",
        "    # Predict the quality\n",
        "    prediction = model.predict(features)[0]\n",
        "    print(f\"Predicted Wine Quality: {prediction}\")\n",
        "\n",
        "# Call the function in a loop to interact with the user\n",
        "predict_wine_quality()"
      ],
      "metadata": {
        "id": "1c5_yH-gFQQT"
      },
      "execution_count": null,
      "outputs": []
    },
    {
      "cell_type": "code",
      "source": [],
      "metadata": {
        "id": "iYu0u5F_FQIB"
      },
      "execution_count": null,
      "outputs": []
    }
  ]
}